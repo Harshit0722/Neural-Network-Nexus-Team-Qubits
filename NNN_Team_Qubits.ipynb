{
  "nbformat": 4,
  "nbformat_minor": 0,
  "metadata": {
    "colab": {
      "provenance": [],
      "authorship_tag": "ABX9TyNHS4JLhJaToys/H5639/se",
      "include_colab_link": true
    },
    "kernelspec": {
      "name": "python3",
      "display_name": "Python 3"
    },
    "language_info": {
      "name": "python"
    }
  },
  "cells": [
    {
      "cell_type": "markdown",
      "metadata": {
        "id": "view-in-github",
        "colab_type": "text"
      },
      "source": [
        "<a href=\"https://colab.research.google.com/github/Harshit0722/Neural-Network-Nexus-Team-Qubits/blob/main/NNN_Team_Qubits.ipynb\" target=\"_parent\"><img src=\"https://colab.research.google.com/assets/colab-badge.svg\" alt=\"Open In Colab\"/></a>"
      ]
    },
    {
      "cell_type": "markdown",
      "source": [
        "## Importing Necessary Libraries"
      ],
      "metadata": {
        "id": "_OENPuEPtyX-"
      }
    },
    {
      "cell_type": "code",
      "source": [
        "import numpy as np\n",
        "import pandas as pd\n",
        "import matplotlib.pyplot as plt\n",
        "import seaborn as sns\n",
        "import re\n",
        "import string\n",
        "import sklearn \n",
        "from tqdm import tqdm\n",
        "\n",
        "from gensim.parsing.preprocessing import remove_stopwords\n",
        "from bs4 import BeautifulSoup\n",
        "from nltk.stem.snowball import SnowballStemmer\n",
        "from nltk.stem.wordnet import WordNetLemmatizer\n",
        "from collections import OrderedDict\n",
        "from nltk.tokenize import word_tokenize\n",
        "from nltk.corpus import stopwords\n",
        "\n",
        "from sklearn.feature_extraction.text import CountVectorizer,TfidfVectorizer\n",
        "from sklearn.linear_model import LogisticRegression\n",
        "from sklearn.model_selection import train_test_split,RandomizedSearchCV\n",
        "from sklearn.metrics import classification_report,f1_score, average_precision_score, recall_score, precision_score\n",
        "\n",
        "import tensorflow as tf\n",
        "import tensorflow_hub as hub\n",
        "from tensorflow import keras \n",
        "from keras import backend as K\n",
        "from tensorflow.keras.preprocessing import sequence\n",
        "from tensorflow.keras.preprocessing.text import Tokenizer\n",
        "from tensorflow.keras.preprocessing.sequence import pad_sequences\n",
        "from tensorflow.keras.optimizers import Adam\n",
        "\n",
        "import torch\n",
        "!pip install transformers\n",
        "\n",
        "from tensorflow.keras.preprocessing.text import Tokenizer\n",
        "from tensorflow.keras.preprocessing.sequence import pad_sequences\n",
        "from tensorflow.keras.models import Sequential\n",
        "from tensorflow.keras.layers import Dense, Embedding, LSTM, Conv1D, MaxPool1D\n",
        "from sklearn.model_selection import train_test_split\n",
        "from sklearn.metrics import classification_report, accuracy_score"
      ],
      "metadata": {
        "colab": {
          "base_uri": "https://localhost:8080/"
        },
        "id": "ZbE3FJI0t2HF",
        "outputId": "15a795d1-21e9-4852-e156-7a4477390ef7"
      },
      "execution_count": null,
      "outputs": [
        {
          "output_type": "stream",
          "name": "stdout",
          "text": [
            "Looking in indexes: https://pypi.org/simple, https://us-python.pkg.dev/colab-wheels/public/simple/\n",
            "Requirement already satisfied: transformers in /usr/local/lib/python3.10/dist-packages (4.29.2)\n",
            "Requirement already satisfied: filelock in /usr/local/lib/python3.10/dist-packages (from transformers) (3.12.0)\n",
            "Requirement already satisfied: huggingface-hub<1.0,>=0.14.1 in /usr/local/lib/python3.10/dist-packages (from transformers) (0.14.1)\n",
            "Requirement already satisfied: numpy>=1.17 in /usr/local/lib/python3.10/dist-packages (from transformers) (1.22.4)\n",
            "Requirement already satisfied: packaging>=20.0 in /usr/local/lib/python3.10/dist-packages (from transformers) (23.1)\n",
            "Requirement already satisfied: pyyaml>=5.1 in /usr/local/lib/python3.10/dist-packages (from transformers) (6.0)\n",
            "Requirement already satisfied: regex!=2019.12.17 in /usr/local/lib/python3.10/dist-packages (from transformers) (2022.10.31)\n",
            "Requirement already satisfied: requests in /usr/local/lib/python3.10/dist-packages (from transformers) (2.27.1)\n",
            "Requirement already satisfied: tokenizers!=0.11.3,<0.14,>=0.11.1 in /usr/local/lib/python3.10/dist-packages (from transformers) (0.13.3)\n",
            "Requirement already satisfied: tqdm>=4.27 in /usr/local/lib/python3.10/dist-packages (from transformers) (4.65.0)\n",
            "Requirement already satisfied: fsspec in /usr/local/lib/python3.10/dist-packages (from huggingface-hub<1.0,>=0.14.1->transformers) (2023.4.0)\n",
            "Requirement already satisfied: typing-extensions>=3.7.4.3 in /usr/local/lib/python3.10/dist-packages (from huggingface-hub<1.0,>=0.14.1->transformers) (4.5.0)\n",
            "Requirement already satisfied: urllib3<1.27,>=1.21.1 in /usr/local/lib/python3.10/dist-packages (from requests->transformers) (1.26.15)\n",
            "Requirement already satisfied: certifi>=2017.4.17 in /usr/local/lib/python3.10/dist-packages (from requests->transformers) (2022.12.7)\n",
            "Requirement already satisfied: charset-normalizer~=2.0.0 in /usr/local/lib/python3.10/dist-packages (from requests->transformers) (2.0.12)\n",
            "Requirement already satisfied: idna<4,>=2.5 in /usr/local/lib/python3.10/dist-packages (from requests->transformers) (3.4)\n"
          ]
        }
      ]
    },
    {
      "cell_type": "markdown",
      "source": [
        "## File read and format conversion"
      ],
      "metadata": {
        "id": "n8VcDV-ot--r"
      }
    },
    {
      "cell_type": "code",
      "source": [
        "train = pd.read_csv('/content/Leads-data.csv', on_bad_lines = 'skip')\n",
        "from pathlib import Path\n",
        "import os\n",
        "outdir = Path('.')\n",
        "os.makedirs(str(outdir), exist_ok=True)\n",
        "train.to_feather(outdir / 'train.feather')"
      ],
      "metadata": {
        "id": "xLm2W_JXuBZb"
      },
      "execution_count": null,
      "outputs": []
    },
    {
      "cell_type": "code",
      "source": [
        "train = pd.read_feather('/content/train.feather')"
      ],
      "metadata": {
        "id": "Io3XWmiAuibN"
      },
      "execution_count": null,
      "outputs": []
    },
    {
      "cell_type": "markdown",
      "source": [
        "## Data cleaning and pre-processing"
      ],
      "metadata": {
        "id": "rMQjcWvUulH0"
      }
    },
    {
      "cell_type": "code",
      "source": [
        "print(train.isna().sum())\n",
        "print(train['status'].unique())"
      ],
      "metadata": {
        "colab": {
          "base_uri": "https://localhost:8080/"
        },
        "id": "j8_5d0C7uoIr",
        "outputId": "f0897d1f-cd7d-4e59-8567-32f4058751bd"
      },
      "execution_count": null,
      "outputs": [
        {
          "output_type": "stream",
          "name": "stdout",
          "text": [
            "Unnamed: 0            0\n",
            "Agent_id              0\n",
            "status                0\n",
            "lost_reason        3364\n",
            "budget             3700\n",
            "duration           2341\n",
            "source                0\n",
            "source_city           0\n",
            "source_country        0\n",
            "utm_source            0\n",
            "utm_medium            0\n",
            "des_city              0\n",
            "des_country           0\n",
            "room_type         23547\n",
            "lead_id               0\n",
            "dtype: int64\n",
            "['LOST' 'WON' 'OPPORTUNITY' 'CONTACTED' 'PROCESSING' 'IMPORTANT']\n"
          ]
        }
      ]
    },
    {
      "cell_type": "code",
      "source": [
        "#Dropping NaN values(except for room_type):-\n",
        "\n",
        "train = train.dropna(subset=['budget', 'duration'])\n",
        "train = pd.DataFrame(train, columns=['status', 'budget', 'duration', 'room_type'])\n",
        "train.reset_index(drop = 'true')"
      ],
      "metadata": {
        "colab": {
          "base_uri": "https://localhost:8080/",
          "height": 424
        },
        "id": "zQrHKmvOvhMw",
        "outputId": "3b8d5d24-4218-411f-d08e-20843ac657c7"
      },
      "execution_count": null,
      "outputs": [
        {
          "output_type": "execute_result",
          "data": {
            "text/plain": [
              "      status                budget  \\\n",
              "0       LOST  £121 - £180 Per Week   \n",
              "1       LOST                   0-0   \n",
              "2       LOST                   120   \n",
              "3       LOST                   0-0   \n",
              "4       LOST  £181 - £240 Per Week   \n",
              "...      ...                   ...   \n",
              "42832   LOST   £60 - £120 Per week   \n",
              "42833   LOST   £60 - £120 Per week   \n",
              "42834   LOST  £241 - £300 Per week   \n",
              "42835   LOST                  1108   \n",
              "42836   LOST  £181 - £240 Per Week   \n",
              "\n",
              "                                         duration     room_type  \n",
              "0             Full Year Course Stay 40 - 44 weeks       Ensuite  \n",
              "1                                               0          None  \n",
              "2                                   semester-stay          None  \n",
              "3                                               0          None  \n",
              "4                                              51  Entire Place  \n",
              "...                                           ...           ...  \n",
              "42832  Complete Education Year Stay 50 - 52 weeks        Studio  \n",
              "42833              Summer/Short Stay 8 - 12 weeks        Studio  \n",
              "42834         Full Year Course Stay 40 - 44 weeks        Studio  \n",
              "42835                                         294          None  \n",
              "42836         Full Year Course Stay 40 - 44 weeks        Studio  \n",
              "\n",
              "[42837 rows x 4 columns]"
            ],
            "text/html": [
              "\n",
              "  <div id=\"df-c89d12a6-6614-4349-8dcc-4d9a652be1ea\">\n",
              "    <div class=\"colab-df-container\">\n",
              "      <div>\n",
              "<style scoped>\n",
              "    .dataframe tbody tr th:only-of-type {\n",
              "        vertical-align: middle;\n",
              "    }\n",
              "\n",
              "    .dataframe tbody tr th {\n",
              "        vertical-align: top;\n",
              "    }\n",
              "\n",
              "    .dataframe thead th {\n",
              "        text-align: right;\n",
              "    }\n",
              "</style>\n",
              "<table border=\"1\" class=\"dataframe\">\n",
              "  <thead>\n",
              "    <tr style=\"text-align: right;\">\n",
              "      <th></th>\n",
              "      <th>status</th>\n",
              "      <th>budget</th>\n",
              "      <th>duration</th>\n",
              "      <th>room_type</th>\n",
              "    </tr>\n",
              "  </thead>\n",
              "  <tbody>\n",
              "    <tr>\n",
              "      <th>0</th>\n",
              "      <td>LOST</td>\n",
              "      <td>£121 - £180 Per Week</td>\n",
              "      <td>Full Year Course Stay 40 - 44 weeks</td>\n",
              "      <td>Ensuite</td>\n",
              "    </tr>\n",
              "    <tr>\n",
              "      <th>1</th>\n",
              "      <td>LOST</td>\n",
              "      <td>0-0</td>\n",
              "      <td>0</td>\n",
              "      <td>None</td>\n",
              "    </tr>\n",
              "    <tr>\n",
              "      <th>2</th>\n",
              "      <td>LOST</td>\n",
              "      <td>120</td>\n",
              "      <td>semester-stay</td>\n",
              "      <td>None</td>\n",
              "    </tr>\n",
              "    <tr>\n",
              "      <th>3</th>\n",
              "      <td>LOST</td>\n",
              "      <td>0-0</td>\n",
              "      <td>0</td>\n",
              "      <td>None</td>\n",
              "    </tr>\n",
              "    <tr>\n",
              "      <th>4</th>\n",
              "      <td>LOST</td>\n",
              "      <td>£181 - £240 Per Week</td>\n",
              "      <td>51</td>\n",
              "      <td>Entire Place</td>\n",
              "    </tr>\n",
              "    <tr>\n",
              "      <th>...</th>\n",
              "      <td>...</td>\n",
              "      <td>...</td>\n",
              "      <td>...</td>\n",
              "      <td>...</td>\n",
              "    </tr>\n",
              "    <tr>\n",
              "      <th>42832</th>\n",
              "      <td>LOST</td>\n",
              "      <td>£60 - £120 Per week</td>\n",
              "      <td>Complete Education Year Stay 50 - 52 weeks</td>\n",
              "      <td>Studio</td>\n",
              "    </tr>\n",
              "    <tr>\n",
              "      <th>42833</th>\n",
              "      <td>LOST</td>\n",
              "      <td>£60 - £120 Per week</td>\n",
              "      <td>Summer/Short Stay 8 - 12 weeks</td>\n",
              "      <td>Studio</td>\n",
              "    </tr>\n",
              "    <tr>\n",
              "      <th>42834</th>\n",
              "      <td>LOST</td>\n",
              "      <td>£241 - £300 Per week</td>\n",
              "      <td>Full Year Course Stay 40 - 44 weeks</td>\n",
              "      <td>Studio</td>\n",
              "    </tr>\n",
              "    <tr>\n",
              "      <th>42835</th>\n",
              "      <td>LOST</td>\n",
              "      <td>1108</td>\n",
              "      <td>294</td>\n",
              "      <td>None</td>\n",
              "    </tr>\n",
              "    <tr>\n",
              "      <th>42836</th>\n",
              "      <td>LOST</td>\n",
              "      <td>£181 - £240 Per Week</td>\n",
              "      <td>Full Year Course Stay 40 - 44 weeks</td>\n",
              "      <td>Studio</td>\n",
              "    </tr>\n",
              "  </tbody>\n",
              "</table>\n",
              "<p>42837 rows × 4 columns</p>\n",
              "</div>\n",
              "      <button class=\"colab-df-convert\" onclick=\"convertToInteractive('df-c89d12a6-6614-4349-8dcc-4d9a652be1ea')\"\n",
              "              title=\"Convert this dataframe to an interactive table.\"\n",
              "              style=\"display:none;\">\n",
              "        \n",
              "  <svg xmlns=\"http://www.w3.org/2000/svg\" height=\"24px\"viewBox=\"0 0 24 24\"\n",
              "       width=\"24px\">\n",
              "    <path d=\"M0 0h24v24H0V0z\" fill=\"none\"/>\n",
              "    <path d=\"M18.56 5.44l.94 2.06.94-2.06 2.06-.94-2.06-.94-.94-2.06-.94 2.06-2.06.94zm-11 1L8.5 8.5l.94-2.06 2.06-.94-2.06-.94L8.5 2.5l-.94 2.06-2.06.94zm10 10l.94 2.06.94-2.06 2.06-.94-2.06-.94-.94-2.06-.94 2.06-2.06.94z\"/><path d=\"M17.41 7.96l-1.37-1.37c-.4-.4-.92-.59-1.43-.59-.52 0-1.04.2-1.43.59L10.3 9.45l-7.72 7.72c-.78.78-.78 2.05 0 2.83L4 21.41c.39.39.9.59 1.41.59.51 0 1.02-.2 1.41-.59l7.78-7.78 2.81-2.81c.8-.78.8-2.07 0-2.86zM5.41 20L4 18.59l7.72-7.72 1.47 1.35L5.41 20z\"/>\n",
              "  </svg>\n",
              "      </button>\n",
              "      \n",
              "  <style>\n",
              "    .colab-df-container {\n",
              "      display:flex;\n",
              "      flex-wrap:wrap;\n",
              "      gap: 12px;\n",
              "    }\n",
              "\n",
              "    .colab-df-convert {\n",
              "      background-color: #E8F0FE;\n",
              "      border: none;\n",
              "      border-radius: 50%;\n",
              "      cursor: pointer;\n",
              "      display: none;\n",
              "      fill: #1967D2;\n",
              "      height: 32px;\n",
              "      padding: 0 0 0 0;\n",
              "      width: 32px;\n",
              "    }\n",
              "\n",
              "    .colab-df-convert:hover {\n",
              "      background-color: #E2EBFA;\n",
              "      box-shadow: 0px 1px 2px rgba(60, 64, 67, 0.3), 0px 1px 3px 1px rgba(60, 64, 67, 0.15);\n",
              "      fill: #174EA6;\n",
              "    }\n",
              "\n",
              "    [theme=dark] .colab-df-convert {\n",
              "      background-color: #3B4455;\n",
              "      fill: #D2E3FC;\n",
              "    }\n",
              "\n",
              "    [theme=dark] .colab-df-convert:hover {\n",
              "      background-color: #434B5C;\n",
              "      box-shadow: 0px 1px 3px 1px rgba(0, 0, 0, 0.15);\n",
              "      filter: drop-shadow(0px 1px 2px rgba(0, 0, 0, 0.3));\n",
              "      fill: #FFFFFF;\n",
              "    }\n",
              "  </style>\n",
              "\n",
              "      <script>\n",
              "        const buttonEl =\n",
              "          document.querySelector('#df-c89d12a6-6614-4349-8dcc-4d9a652be1ea button.colab-df-convert');\n",
              "        buttonEl.style.display =\n",
              "          google.colab.kernel.accessAllowed ? 'block' : 'none';\n",
              "\n",
              "        async function convertToInteractive(key) {\n",
              "          const element = document.querySelector('#df-c89d12a6-6614-4349-8dcc-4d9a652be1ea');\n",
              "          const dataTable =\n",
              "            await google.colab.kernel.invokeFunction('convertToInteractive',\n",
              "                                                     [key], {});\n",
              "          if (!dataTable) return;\n",
              "\n",
              "          const docLinkHtml = 'Like what you see? Visit the ' +\n",
              "            '<a target=\"_blank\" href=https://colab.research.google.com/notebooks/data_table.ipynb>data table notebook</a>'\n",
              "            + ' to learn more about interactive tables.';\n",
              "          element.innerHTML = '';\n",
              "          dataTable['output_type'] = 'display_data';\n",
              "          await google.colab.output.renderOutput(dataTable, element);\n",
              "          const docLink = document.createElement('div');\n",
              "          docLink.innerHTML = docLinkHtml;\n",
              "          element.appendChild(docLink);\n",
              "        }\n",
              "      </script>\n",
              "    </div>\n",
              "  </div>\n",
              "  "
            ]
          },
          "metadata": {},
          "execution_count": 5
        }
      ]
    },
    {
      "cell_type": "code",
      "source": [
        "#Converting to lowercase:-\n",
        "\n",
        "train['budget'] = train['budget'].str.lower()\n",
        "train['duration'] = train['duration'].str.lower()\n",
        "train['room_type'] = train['room_type'].str.lower()"
      ],
      "metadata": {
        "id": "QHVi8efWv1_L"
      },
      "execution_count": null,
      "outputs": []
    },
    {
      "cell_type": "code",
      "source": [
        "#Dropping rows with deal status != {WON, LOST}\n",
        "\n",
        "train.drop(train[(train['status'] =='OPPORTUNITY')].index, inplace=True)\n",
        "train.drop(train[(train['status'] =='CONTACTED')].index, inplace=True)\n",
        "train.drop(train[(train['status'] =='PROCESSING')].index, inplace=True)\n",
        "train.drop(train[(train['status'] =='IMPORTANT')].index, inplace=True)"
      ],
      "metadata": {
        "id": "mvW4pqO-v-jh"
      },
      "execution_count": null,
      "outputs": []
    },
    {
      "cell_type": "code",
      "source": [
        "#Replacing WON as 1, LOST as 0\n",
        "\n",
        "train = train.replace(\"LOST\", 0)\n",
        "train = train.replace(\"WON\", 1)"
      ],
      "metadata": {
        "id": "xmQq7UkpwKT3"
      },
      "execution_count": null,
      "outputs": []
    },
    {
      "cell_type": "code",
      "source": [
        "#Concatenating for using input features \n",
        "\n",
        "train['detail'] = train['budget'] + train['duration'] + train['room_type']\n",
        "train.head()"
      ],
      "metadata": {
        "id": "An_kW63vwfvL",
        "colab": {
          "base_uri": "https://localhost:8080/",
          "height": 206
        },
        "outputId": "79bcaf9e-9e41-4b2d-e3b9-2299003c514f"
      },
      "execution_count": null,
      "outputs": [
        {
          "output_type": "execute_result",
          "data": {
            "text/plain": [
              "   status                budget                             duration  \\\n",
              "2       0  £121 - £180 per week  full year course stay 40 - 44 weeks   \n",
              "3       0                   0-0                                    0   \n",
              "5       0                   120                        semester-stay   \n",
              "6       0                   0-0                                    0   \n",
              "7       0  £181 - £240 per week                                   51   \n",
              "\n",
              "      room_type                                             detail  \n",
              "2       ensuite  £121 - £180 per weekfull year course stay 40 -...  \n",
              "3          None                                                NaN  \n",
              "5          None                                                NaN  \n",
              "6          None                                                NaN  \n",
              "7  entire place                 £181 - £240 per week51entire place  "
            ],
            "text/html": [
              "\n",
              "  <div id=\"df-c6135c86-6883-4425-a6b8-472e6b364993\">\n",
              "    <div class=\"colab-df-container\">\n",
              "      <div>\n",
              "<style scoped>\n",
              "    .dataframe tbody tr th:only-of-type {\n",
              "        vertical-align: middle;\n",
              "    }\n",
              "\n",
              "    .dataframe tbody tr th {\n",
              "        vertical-align: top;\n",
              "    }\n",
              "\n",
              "    .dataframe thead th {\n",
              "        text-align: right;\n",
              "    }\n",
              "</style>\n",
              "<table border=\"1\" class=\"dataframe\">\n",
              "  <thead>\n",
              "    <tr style=\"text-align: right;\">\n",
              "      <th></th>\n",
              "      <th>status</th>\n",
              "      <th>budget</th>\n",
              "      <th>duration</th>\n",
              "      <th>room_type</th>\n",
              "      <th>detail</th>\n",
              "    </tr>\n",
              "  </thead>\n",
              "  <tbody>\n",
              "    <tr>\n",
              "      <th>2</th>\n",
              "      <td>0</td>\n",
              "      <td>£121 - £180 per week</td>\n",
              "      <td>full year course stay 40 - 44 weeks</td>\n",
              "      <td>ensuite</td>\n",
              "      <td>£121 - £180 per weekfull year course stay 40 -...</td>\n",
              "    </tr>\n",
              "    <tr>\n",
              "      <th>3</th>\n",
              "      <td>0</td>\n",
              "      <td>0-0</td>\n",
              "      <td>0</td>\n",
              "      <td>None</td>\n",
              "      <td>NaN</td>\n",
              "    </tr>\n",
              "    <tr>\n",
              "      <th>5</th>\n",
              "      <td>0</td>\n",
              "      <td>120</td>\n",
              "      <td>semester-stay</td>\n",
              "      <td>None</td>\n",
              "      <td>NaN</td>\n",
              "    </tr>\n",
              "    <tr>\n",
              "      <th>6</th>\n",
              "      <td>0</td>\n",
              "      <td>0-0</td>\n",
              "      <td>0</td>\n",
              "      <td>None</td>\n",
              "      <td>NaN</td>\n",
              "    </tr>\n",
              "    <tr>\n",
              "      <th>7</th>\n",
              "      <td>0</td>\n",
              "      <td>£181 - £240 per week</td>\n",
              "      <td>51</td>\n",
              "      <td>entire place</td>\n",
              "      <td>£181 - £240 per week51entire place</td>\n",
              "    </tr>\n",
              "  </tbody>\n",
              "</table>\n",
              "</div>\n",
              "      <button class=\"colab-df-convert\" onclick=\"convertToInteractive('df-c6135c86-6883-4425-a6b8-472e6b364993')\"\n",
              "              title=\"Convert this dataframe to an interactive table.\"\n",
              "              style=\"display:none;\">\n",
              "        \n",
              "  <svg xmlns=\"http://www.w3.org/2000/svg\" height=\"24px\"viewBox=\"0 0 24 24\"\n",
              "       width=\"24px\">\n",
              "    <path d=\"M0 0h24v24H0V0z\" fill=\"none\"/>\n",
              "    <path d=\"M18.56 5.44l.94 2.06.94-2.06 2.06-.94-2.06-.94-.94-2.06-.94 2.06-2.06.94zm-11 1L8.5 8.5l.94-2.06 2.06-.94-2.06-.94L8.5 2.5l-.94 2.06-2.06.94zm10 10l.94 2.06.94-2.06 2.06-.94-2.06-.94-.94-2.06-.94 2.06-2.06.94z\"/><path d=\"M17.41 7.96l-1.37-1.37c-.4-.4-.92-.59-1.43-.59-.52 0-1.04.2-1.43.59L10.3 9.45l-7.72 7.72c-.78.78-.78 2.05 0 2.83L4 21.41c.39.39.9.59 1.41.59.51 0 1.02-.2 1.41-.59l7.78-7.78 2.81-2.81c.8-.78.8-2.07 0-2.86zM5.41 20L4 18.59l7.72-7.72 1.47 1.35L5.41 20z\"/>\n",
              "  </svg>\n",
              "      </button>\n",
              "      \n",
              "  <style>\n",
              "    .colab-df-container {\n",
              "      display:flex;\n",
              "      flex-wrap:wrap;\n",
              "      gap: 12px;\n",
              "    }\n",
              "\n",
              "    .colab-df-convert {\n",
              "      background-color: #E8F0FE;\n",
              "      border: none;\n",
              "      border-radius: 50%;\n",
              "      cursor: pointer;\n",
              "      display: none;\n",
              "      fill: #1967D2;\n",
              "      height: 32px;\n",
              "      padding: 0 0 0 0;\n",
              "      width: 32px;\n",
              "    }\n",
              "\n",
              "    .colab-df-convert:hover {\n",
              "      background-color: #E2EBFA;\n",
              "      box-shadow: 0px 1px 2px rgba(60, 64, 67, 0.3), 0px 1px 3px 1px rgba(60, 64, 67, 0.15);\n",
              "      fill: #174EA6;\n",
              "    }\n",
              "\n",
              "    [theme=dark] .colab-df-convert {\n",
              "      background-color: #3B4455;\n",
              "      fill: #D2E3FC;\n",
              "    }\n",
              "\n",
              "    [theme=dark] .colab-df-convert:hover {\n",
              "      background-color: #434B5C;\n",
              "      box-shadow: 0px 1px 3px 1px rgba(0, 0, 0, 0.15);\n",
              "      filter: drop-shadow(0px 1px 2px rgba(0, 0, 0, 0.3));\n",
              "      fill: #FFFFFF;\n",
              "    }\n",
              "  </style>\n",
              "\n",
              "      <script>\n",
              "        const buttonEl =\n",
              "          document.querySelector('#df-c6135c86-6883-4425-a6b8-472e6b364993 button.colab-df-convert');\n",
              "        buttonEl.style.display =\n",
              "          google.colab.kernel.accessAllowed ? 'block' : 'none';\n",
              "\n",
              "        async function convertToInteractive(key) {\n",
              "          const element = document.querySelector('#df-c6135c86-6883-4425-a6b8-472e6b364993');\n",
              "          const dataTable =\n",
              "            await google.colab.kernel.invokeFunction('convertToInteractive',\n",
              "                                                     [key], {});\n",
              "          if (!dataTable) return;\n",
              "\n",
              "          const docLinkHtml = 'Like what you see? Visit the ' +\n",
              "            '<a target=\"_blank\" href=https://colab.research.google.com/notebooks/data_table.ipynb>data table notebook</a>'\n",
              "            + ' to learn more about interactive tables.';\n",
              "          element.innerHTML = '';\n",
              "          dataTable['output_type'] = 'display_data';\n",
              "          await google.colab.output.renderOutput(dataTable, element);\n",
              "          const docLink = document.createElement('div');\n",
              "          docLink.innerHTML = docLinkHtml;\n",
              "          element.appendChild(docLink);\n",
              "        }\n",
              "      </script>\n",
              "    </div>\n",
              "  </div>\n",
              "  "
            ]
          },
          "metadata": {},
          "execution_count": 9
        }
      ]
    },
    {
      "cell_type": "code",
      "source": [
        "train.isna().sum()"
      ],
      "metadata": {
        "colab": {
          "base_uri": "https://localhost:8080/"
        },
        "id": "IYvIYixf57FW",
        "outputId": "4b36f0db-27cd-4de3-d8ab-ba6df5eedd9e"
      },
      "execution_count": null,
      "outputs": [
        {
          "output_type": "execute_result",
          "data": {
            "text/plain": [
              "status           0\n",
              "budget           0\n",
              "duration         0\n",
              "room_type    19727\n",
              "detail       19727\n",
              "dtype: int64"
            ]
          },
          "metadata": {},
          "execution_count": 10
        }
      ]
    },
    {
      "cell_type": "code",
      "source": [
        "#Removing room_type NaN, since such values found out to be redundant\n",
        "\n",
        "train = train.dropna(subset=['room_type'])\n",
        "train.info()"
      ],
      "metadata": {
        "colab": {
          "base_uri": "https://localhost:8080/"
        },
        "id": "oDnMLyRk6Ljq",
        "outputId": "6739123a-6ef0-4ffb-ac95-5bf99fa07e1d"
      },
      "execution_count": null,
      "outputs": [
        {
          "output_type": "stream",
          "name": "stdout",
          "text": [
            "<class 'pandas.core.frame.DataFrame'>\n",
            "Int64Index: 22825 entries, 2 to 46607\n",
            "Data columns (total 5 columns):\n",
            " #   Column     Non-Null Count  Dtype \n",
            "---  ------     --------------  ----- \n",
            " 0   status     22825 non-null  int64 \n",
            " 1   budget     22825 non-null  object\n",
            " 2   duration   22825 non-null  object\n",
            " 3   room_type  22825 non-null  object\n",
            " 4   detail     22825 non-null  object\n",
            "dtypes: int64(1), object(4)\n",
            "memory usage: 1.0+ MB\n"
          ]
        }
      ]
    },
    {
      "cell_type": "code",
      "source": [
        "#Analyzing class imbalance:-\n",
        " \n",
        "train['status'].value_counts()"
      ],
      "metadata": {
        "colab": {
          "base_uri": "https://localhost:8080/"
        },
        "id": "epmQDaTlP6cy",
        "outputId": "c51dd9e5-0a63-4e2d-d4a4-e564cd38bb0c"
      },
      "execution_count": null,
      "outputs": [
        {
          "output_type": "execute_result",
          "data": {
            "text/plain": [
              "0    21364\n",
              "1     1461\n",
              "Name: status, dtype: int64"
            ]
          },
          "metadata": {},
          "execution_count": 12
        }
      ]
    },
    {
      "cell_type": "markdown",
      "source": [
        "## LSTM Model"
      ],
      "metadata": {
        "id": "dBa0Svtk2Dak"
      }
    },
    {
      "cell_type": "code",
      "source": [
        "#Initialisation\n",
        "\n",
        "import gensim\n",
        "y = train['status'].values\n",
        "X = [d.split() for d in train['detail'].tolist()]"
      ],
      "metadata": {
        "id": "0tcw0uCv2GI1"
      },
      "execution_count": null,
      "outputs": []
    },
    {
      "cell_type": "code",
      "source": [
        "DIM = 100\n",
        "w2v_model = gensim.models.Word2Vec(sentences=X, vector_size=DIM, window=10, min_count=1)\n",
        "words = list(w2v_model.wv.index_to_key)\n",
        "tokenizer = Tokenizer()\n",
        "tokenizer.fit_on_texts(X)\n",
        "X = tokenizer.texts_to_sequences(X)"
      ],
      "metadata": {
        "id": "JHTI48sm2eMX"
      },
      "execution_count": null,
      "outputs": []
    },
    {
      "cell_type": "code",
      "source": [
        "nos = np.array([len(x) for x in X])\n",
        "len(nos[nos>13])"
      ],
      "metadata": {
        "colab": {
          "base_uri": "https://localhost:8080/"
        },
        "id": "F-O4z-Ey3JkX",
        "outputId": "73d72146-fb2d-4243-a7bc-f735354f365d"
      },
      "execution_count": null,
      "outputs": [
        {
          "output_type": "execute_result",
          "data": {
            "text/plain": [
              "0"
            ]
          },
          "metadata": {},
          "execution_count": 15
        }
      ]
    },
    {
      "cell_type": "code",
      "source": [
        "maxlen = 13\n",
        "X = pad_sequences(X, maxlen=maxlen)\n",
        "len(X[0])"
      ],
      "metadata": {
        "colab": {
          "base_uri": "https://localhost:8080/"
        },
        "id": "qBcoDXaK3hsT",
        "outputId": "3f5b7a10-aceb-4efe-9062-25496f347f7b"
      },
      "execution_count": null,
      "outputs": [
        {
          "output_type": "execute_result",
          "data": {
            "text/plain": [
              "13"
            ]
          },
          "metadata": {},
          "execution_count": 16
        }
      ]
    },
    {
      "cell_type": "code",
      "source": [
        "vocab_size = len(tokenizer.word_index)+1\n",
        "vocab = tokenizer.word_index"
      ],
      "metadata": {
        "id": "MRu9uhpP4CTM"
      },
      "execution_count": null,
      "outputs": []
    },
    {
      "cell_type": "code",
      "source": [
        "def get_weight_matrix(model):\n",
        "  weight_matrix = np.zeros((vocab_size, DIM))\n",
        "  for word, i in vocab.items():\n",
        "    weight_matrix[i] = model.wv[word]\n",
        "\n",
        "  return weight_matrix "
      ],
      "metadata": {
        "id": "vai63yM_4ELk"
      },
      "execution_count": null,
      "outputs": []
    },
    {
      "cell_type": "code",
      "source": [
        "embedding_vectors = get_weight_matrix(w2v_model)\n",
        "embedding_vectors.shape"
      ],
      "metadata": {
        "colab": {
          "base_uri": "https://localhost:8080/"
        },
        "id": "0-224hTt4HoL",
        "outputId": "9b5e372a-982c-441b-c2d6-85bd1139d98e"
      },
      "execution_count": null,
      "outputs": [
        {
          "output_type": "execute_result",
          "data": {
            "text/plain": [
              "(638, 100)"
            ]
          },
          "metadata": {},
          "execution_count": 19
        }
      ]
    },
    {
      "cell_type": "code",
      "source": [
        "#Model Construction:-\n",
        "\n",
        "model = Sequential()\n",
        "model.add(Embedding(vocab_size, output_dim=DIM, weights = [embedding_vectors], input_length = maxlen, trainable = False))\n",
        "model.add(LSTM(units = 128))\n",
        "model.add(Dense(1, activation = 'sigmoid'))\n",
        "model.compile(optimizer = 'adam', loss = 'binary_crossentropy', metrics=['acc'])\n",
        "\n",
        "model.summary()"
      ],
      "metadata": {
        "colab": {
          "base_uri": "https://localhost:8080/"
        },
        "id": "9MDTYn9m7yAv",
        "outputId": "d71f82f7-a683-4c15-bad1-4d74b7080f16"
      },
      "execution_count": null,
      "outputs": [
        {
          "output_type": "stream",
          "name": "stdout",
          "text": [
            "Model: \"sequential\"\n",
            "_________________________________________________________________\n",
            " Layer (type)                Output Shape              Param #   \n",
            "=================================================================\n",
            " embedding (Embedding)       (None, 13, 100)           63800     \n",
            "                                                                 \n",
            " lstm (LSTM)                 (None, 128)               117248    \n",
            "                                                                 \n",
            " dense (Dense)               (None, 1)                 129       \n",
            "                                                                 \n",
            "=================================================================\n",
            "Total params: 181,177\n",
            "Trainable params: 117,377\n",
            "Non-trainable params: 63,800\n",
            "_________________________________________________________________\n"
          ]
        }
      ]
    },
    {
      "cell_type": "code",
      "source": [
        "#Splitting to obtain train and test data\n",
        "\n",
        "X_train, X_test, y_train, y_test = train_test_split( X, y, test_size=0.25, random_state=42)"
      ],
      "metadata": {
        "id": "XYkFW98I2sEN"
      },
      "execution_count": null,
      "outputs": []
    },
    {
      "cell_type": "code",
      "source": [
        "from imblearn.over_sampling import SMOTE\n",
        "sm = SMOTE(random_state=42)\n",
        "X_res, y_res = sm.fit_resample(X_train, y_train)"
      ],
      "metadata": {
        "id": "YIYfnMxqLuDc"
      },
      "execution_count": null,
      "outputs": []
    },
    {
      "cell_type": "code",
      "source": [
        "model.fit(X_res, y_res, validation_split=0.3, epochs=2)"
      ],
      "metadata": {
        "colab": {
          "base_uri": "https://localhost:8080/"
        },
        "id": "C8176uAV8B18",
        "outputId": "750c53f8-ef81-40e6-aa32-72a6e8c8e0c5"
      },
      "execution_count": null,
      "outputs": [
        {
          "output_type": "stream",
          "name": "stdout",
          "text": [
            "Epoch 1/2\n",
            "701/701 [==============================] - 41s 55ms/step - loss: 0.5727 - acc: 0.7238 - val_loss: 1.1905 - val_acc: 0.0769\n",
            "Epoch 2/2\n",
            "701/701 [==============================] - 29s 41ms/step - loss: 0.5565 - acc: 0.7346 - val_loss: 1.2379 - val_acc: 0.1156\n"
          ]
        },
        {
          "output_type": "execute_result",
          "data": {
            "text/plain": [
              "<keras.callbacks.History at 0x7fb5a96d6200>"
            ]
          },
          "metadata": {},
          "execution_count": 23
        }
      ]
    },
    {
      "cell_type": "code",
      "source": [
        "y_pred = (model.predict(X_test) >=0.5).astype(int)"
      ],
      "metadata": {
        "colab": {
          "base_uri": "https://localhost:8080/"
        },
        "id": "RyKBazW68sb0",
        "outputId": "36937128-7136-4d03-a951-e6403e4ba88e"
      },
      "execution_count": null,
      "outputs": [
        {
          "output_type": "stream",
          "name": "stdout",
          "text": [
            "179/179 [==============================] - 4s 17ms/step\n"
          ]
        }
      ]
    },
    {
      "cell_type": "code",
      "source": [
        "accuracy_score(y_test, y_pred)"
      ],
      "metadata": {
        "colab": {
          "base_uri": "https://localhost:8080/"
        },
        "id": "7BlsgyEO8uXU",
        "outputId": "02054edb-32a8-4f13-c6dc-bb974003d1af"
      },
      "execution_count": null,
      "outputs": [
        {
          "output_type": "execute_result",
          "data": {
            "text/plain": [
              "0.9278079551428071"
            ]
          },
          "metadata": {},
          "execution_count": 25
        }
      ]
    },
    {
      "cell_type": "code",
      "source": [
        "f1_score(y_test, y_pred)"
      ],
      "metadata": {
        "colab": {
          "base_uri": "https://localhost:8080/"
        },
        "id": "Ii3yWf3S_2Tt",
        "outputId": "359797b0-d4aa-4c2c-f0f4-0f202b62cf5e"
      },
      "execution_count": null,
      "outputs": [
        {
          "output_type": "execute_result",
          "data": {
            "text/plain": [
              "0.07623318385650224"
            ]
          },
          "metadata": {},
          "execution_count": 26
        }
      ]
    },
    {
      "cell_type": "code",
      "source": [
        "from sklearn.metrics import confusion_matrix\n",
        "\n",
        "#compute the confusion matrix.\n",
        "cm = confusion_matrix(y_test,y_pred)\n",
        " \n",
        "#Plot the confusion matrix.\n",
        "sns.heatmap(cm,\n",
        "            annot=True,\n",
        "            fmt='g',\n",
        "            xticklabels=['Negative','Positive'],\n",
        "            yticklabels=['Negative','Positive'])\n",
        "plt.ylabel('Prediction',fontsize=13)\n",
        "plt.xlabel('Actual',fontsize=13)\n",
        "plt.title('Confusion Matrix',fontsize=17)\n",
        "plt.show()"
      ],
      "metadata": {
        "colab": {
          "base_uri": "https://localhost:8080/",
          "height": 481
        },
        "id": "PK_HUe8kEPJY",
        "outputId": "60991fe9-b466-4d32-b6e4-9d66d67f6f8c"
      },
      "execution_count": null,
      "outputs": [
        {
          "output_type": "display_data",
          "data": {
            "text/plain": [
              "<Figure size 640x480 with 2 Axes>"
            ],
            "image/png": "[encoded data removed]"
          },
          "metadata": {}
        }
      ]
    },
    {
      "cell_type": "markdown",
      "source": [
        "## SMOTE-TOMEK LINKS + Random Forest Classifier"
      ],
      "metadata": {
        "id": "4LMfGN3-Qn_x"
      }
    },
    {
      "cell_type": "code",
      "source": [
        "# import pandas as pd\n",
        "# import numpy as np\n",
        "# from imblearn.pipeline import Pipeline\n",
        "# import matplotlib.pyplot as plt\n",
        "# from sklearn.datasets import make_classification\n",
        "# from sklearn.model_selection import cross_validate\n",
        "# from sklearn.model_selection import RepeatedStratifiedKFold\n",
        "# from sklearn.ensemble import RandomForestClassifier\n",
        "# from imblearn.combine import SMOTETomek\n",
        "# from imblearn.under_sampling import TomekLinks"
      ],
      "metadata": {
        "id": "vo4cVPuUH5mQ"
      },
      "execution_count": null,
      "outputs": []
    },
    {
      "cell_type": "code",
      "source": [
        "# train_dummies=pd.get_dummies(train)\n",
        "# train_dummies.head()\n",
        "# #Churn dataset study case\n",
        "# Y_churn=train_dummies['status'].values\n",
        "# X_churn=train_dummies.drop('status',axis=1)"
      ],
      "metadata": {
        "id": "bCFFIZYjShCi"
      },
      "execution_count": null,
      "outputs": []
    },
    {
      "cell_type": "code",
      "source": [
        "# ## With SMOTE-Tomek Links method\n",
        "# # Define model\n",
        "# model2=RandomForestClassifier(criterion='entropy')\n",
        "# # Define SMOTE-Tomek Links\n",
        "# resample2=SMOTETomek(tomek=TomekLinks(sampling_strategy='majority'))\n",
        "# # Define pipeline\n",
        "# pipeline2=Pipeline(steps=[('r', resample2), ('m', model2)])\n",
        "# # Define evaluation procedure (here we use Repeated Stratified K-Fold CV)\n",
        "# cv2=RepeatedStratifiedKFold(n_splits=10, n_repeats=3, random_state=1)\n",
        "# # Evaluate model\n",
        "# scoring=['accuracy','precision_macro','recall_macro']\n",
        "# scores2 = cross_validate(pipeline2, X_churn, Y_churn, scoring=scoring, cv=cv2, n_jobs=-1)\n",
        "# # summarize performance\n",
        "# print('Mean Accuracy: %.4f' % np.mean(scores2['test_accuracy']))\n",
        "# print('Mean Precision: %.4f' % np.mean(scores2['test_precision_macro']))\n",
        "# print('Mean Recall: %.4f' % np.mean(scores2['test_recall_macro']))"
      ],
      "metadata": {
        "id": "_ocAOYijOnzp"
      },
      "execution_count": null,
      "outputs": []
    }
  ]
}